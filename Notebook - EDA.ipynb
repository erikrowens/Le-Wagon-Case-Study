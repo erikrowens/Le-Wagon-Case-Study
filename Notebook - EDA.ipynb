{
 "cells": [
  {
   "cell_type": "markdown",
   "id": "94e09f87",
   "metadata": {},
   "source": [
    "# Klarna Case Study"
   ]
  },
  {
   "cell_type": "code",
   "execution_count": null,
   "id": "996787cf",
   "metadata": {},
   "outputs": [],
   "source": [
    "import pandas as pd\n",
    "import numpy as np\n",
    "import matplotlib.pyplot as plt\n",
    "import seaborn as sns\n",
    "import csv"
   ]
  },
  {
   "cell_type": "markdown",
   "id": "118c6439",
   "metadata": {},
   "source": [
    "## Data Retrieval"
   ]
  },
  {
   "cell_type": "code",
   "execution_count": null,
   "id": "e046f330",
   "metadata": {},
   "outputs": [],
   "source": [
    "def get_col_info():\n",
    "    colInfo = 'CaseStudyCols.csv'\n",
    "\n",
    "    with open(colInfo, newline='') as csv_file:\n",
    "        reader = csv.reader(csv_file, delimiter=';')\n",
    "        # skip over the first row\n",
    "        reader.__next__()\n",
    "        rows = list(reader)\n",
    "\n",
    "    col_names_types = {row[0]: row[1] for row in rows}\n",
    "\n",
    "    return col_names_types\n"
   ]
  },
  {
   "cell_type": "code",
   "execution_count": null,
   "id": "c467ccb7",
   "metadata": {},
   "outputs": [],
   "source": [
    "dataSet = 'dataset.csv'\n",
    "\n",
    "\"\"\"\n",
    "Note that in reality the column 'default' and\n",
    "'worst_status_active_inv' as actually ints, but\n",
    "since they have NA values, we load them as objects\n",
    "for now.\n",
    "\n",
    "But note that the entries where default = NA are actually our\n",
    "entries that we are supposed to predict (validate set?)\n",
    "\"\"\"\n",
    "\n",
    "df = pd.read_csv(dataSet, delimiter=';', dtype = get_col_info(), keep_default_na=True)"
   ]
  },
  {
   "cell_type": "markdown",
   "id": "cd302016",
   "metadata": {},
   "source": [
    "Data Processing & Wrangling"
   ]
  },
  {
   "cell_type": "code",
   "execution_count": null,
   "id": "978c9b14",
   "metadata": {},
   "outputs": [],
   "source": [
    "df.info()"
   ]
  },
  {
   "cell_type": "code",
   "execution_count": null,
   "id": "ec2480a8",
   "metadata": {},
   "outputs": [],
   "source": [
    "# Strip out the NA entries for the column 'default'\n",
    "# First we save the entries to a seperate dataframe\n",
    "\n",
    "validate_df = df[df['default'].isna().copy()]\n",
    "\n",
    "df = df[df['default'].notna().copy()]\n",
    "\n",
    "df.info()"
   ]
  },
  {
   "cell_type": "code",
   "execution_count": null,
   "id": "7fdef45a",
   "metadata": {},
   "outputs": [],
   "source": [
    "# Explore the dataset, in particular look at the NA counts\n",
    "has_na = []\n",
    "for col in df.columns:\n",
    "    perc_na = 0\n",
    "    perc_na = round(df[col].isna().sum()/len(df), 2)\n",
    "    if perc_na > 0:\n",
    "        has_na.append([col, perc_na])\n",
    "\n",
    "\n",
    "# Plot out the columns with NA (their percentages) - no need to show it each time\n",
    "# fig, ax = plt.subplots(figsize=(10, 5), dpi=100)\n",
    "# na_plot = sns.barplot(x=[n[0] for n in has_na], y=[n[1] for n in has_na],  ax=ax)\n",
    "# na_plot.set_xticklabels(na_plot.get_xticklabels(), rotation=90, horizontalalignment='right')\n",
    "# na_plot.set_title(\"% of values = NA\");\n"
   ]
  },
  {
   "cell_type": "code",
   "execution_count": null,
   "id": "27fb5b9c",
   "metadata": {},
   "outputs": [],
   "source": [
    "df.info()"
   ]
  },
  {
   "cell_type": "code",
   "execution_count": null,
   "id": "d15475f0",
   "metadata": {},
   "outputs": [],
   "source": [
    "df.drop(columns=[col[0] for col in has_na if col[1] > .5], inplace=True)\n",
    "df.drop(columns=['uuid', 'default'], inplace=True)\n",
    "df.info()"
   ]
  },
  {
   "cell_type": "code",
   "execution_count": null,
   "id": "355c330b",
   "metadata": {},
   "outputs": [],
   "source": [
    "print(f\"There are {len(df.select_dtypes(include='number').describe().columns.to_list())} numeric columns now\")\n",
    "print(f\"There are {len(df.select_dtypes(exclude='number').describe().columns.to_list())} NON numeric columns now\")"
   ]
  },
  {
   "cell_type": "code",
   "execution_count": null,
   "id": "ec14b887",
   "metadata": {},
   "outputs": [],
   "source": [
    "numerics_df = df.select_dtypes(include='number') #.describe().columns.to_list()"
   ]
  },
  {
   "cell_type": "code",
   "execution_count": null,
   "id": "5c75ee2f",
   "metadata": {},
   "outputs": [],
   "source": [
    "for col in numerics_df:\n",
    "    print(f\"{col}:            {round(numerics_df[col].var(skipna=True), 2)}\")"
   ]
  },
  {
   "cell_type": "code",
   "execution_count": null,
   "id": "740176e9",
   "metadata": {},
   "outputs": [],
   "source": [
    "for col in numerics_df:\n",
    "    print(numerics_df[col].describe())\n",
    "    print(f\"Number of NA values: {numerics_df[col].isna().sum()}\")\n",
    "    print(\"=====================================\\n\")"
   ]
  },
  {
   "cell_type": "code",
   "execution_count": null,
   "id": "b5c47e03",
   "metadata": {},
   "outputs": [],
   "source": [
    "def plotNumCols(col):\n",
    "    plt.figure(figsize=(14, 4))\n",
    "\n",
    "    plt.subplot(1, 2, 1)\n",
    "    plt.title(col.name)\n",
    "    sns.boxplot(col)\n",
    "\n",
    "    plt.subplot(1, 2, 2)\n",
    "    plt.title(col.name)\n",
    "    sns.scatterplot(x=col, y=col.value_counts());\n"
   ]
  },
  {
   "cell_type": "code",
   "execution_count": null,
   "id": "a924e6aa",
   "metadata": {},
   "outputs": [],
   "source": [
    "for col in numerics_df:\n",
    "    plotNumCols(numerics_df[col])"
   ]
  }
 ],
 "metadata": {
  "kernelspec": {
   "display_name": "Python 3 (ipykernel)",
   "language": "python",
   "name": "python3"
  },
  "language_info": {
   "codemirror_mode": {
    "name": "ipython",
    "version": 3
   },
   "file_extension": ".py",
   "mimetype": "text/x-python",
   "name": "python",
   "nbconvert_exporter": "python",
   "pygments_lexer": "ipython3",
   "version": "3.10.6"
  },
  "toc": {
   "base_numbering": 1,
   "nav_menu": {},
   "number_sections": true,
   "sideBar": true,
   "skip_h1_title": false,
   "title_cell": "Table of Contents",
   "title_sidebar": "Contents",
   "toc_cell": false,
   "toc_position": {},
   "toc_section_display": true,
   "toc_window_display": false
  }
 },
 "nbformat": 4,
 "nbformat_minor": 5
}
