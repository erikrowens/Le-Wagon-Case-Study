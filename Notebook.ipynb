{
 "cells": [
  {
   "cell_type": "markdown",
   "id": "94e09f87",
   "metadata": {},
   "source": [
    "# Klarna Case Study"
   ]
  },
  {
   "cell_type": "code",
   "execution_count": 1,
   "id": "996787cf",
   "metadata": {},
   "outputs": [],
   "source": [
    "import pandas as pd\n",
    "import numpy as np\n",
    "import matplotlib.pyplot as plt\n",
    "import seaborn as sns\n",
    "import csv"
   ]
  },
  {
   "cell_type": "markdown",
   "id": "118c6439",
   "metadata": {},
   "source": [
    "## Data Retrieval"
   ]
  },
  {
   "cell_type": "code",
   "execution_count": 2,
   "id": "e046f330",
   "metadata": {},
   "outputs": [],
   "source": [
    "def get_col_info():\n",
    "    colInfo = 'CaseStudyCols.csv'\n",
    "\n",
    "    with open(colInfo, newline='') as csv_file:\n",
    "        reader = csv.reader(csv_file, delimiter=';')\n",
    "        # skip over the first row\n",
    "        reader.__next__()\n",
    "        rows = list(reader)\n",
    "\n",
    "    col_names_types = {row[0]: row[1] for row in rows}\n",
    "\n",
    "    return col_names_types\n"
   ]
  },
  {
   "cell_type": "code",
   "execution_count": 3,
   "id": "c467ccb7",
   "metadata": {},
   "outputs": [],
   "source": [
    "dataSet = 'dataset.csv'\n",
    "\n",
    "\"\"\"\n",
    "Note that in reality the column 'default' and\n",
    "'worst_status_active_inv' as actually ints, but\n",
    "since they have NA values, we load them as objects\n",
    "for now.\n",
    "\n",
    "But note that the entries where default = NA are actually our\n",
    "entries that we are supposed to predict (validate set?)\n",
    "\"\"\"\n",
    "\n",
    "df = pd.read_csv(dataSet, delimiter=';', dtype = get_col_info(), keep_default_na=True)"
   ]
  },
  {
   "cell_type": "markdown",
   "id": "cd302016",
   "metadata": {},
   "source": [
    "Data Processing & Wrangling"
   ]
  },
  {
   "cell_type": "code",
   "execution_count": 4,
   "id": "978c9b14",
   "metadata": {},
   "outputs": [
    {
     "name": "stdout",
     "output_type": "stream",
     "text": [
      "<class 'pandas.core.frame.DataFrame'>\n",
      "RangeIndex: 99976 entries, 0 to 99975\n",
      "Data columns (total 43 columns):\n",
      " #   Column                               Non-Null Count  Dtype  \n",
      "---  ------                               --------------  -----  \n",
      " 0   uuid                                 99976 non-null  object \n",
      " 1   default                              89976 non-null  object \n",
      " 2   account_amount_added_12_24m          99976 non-null  int32  \n",
      " 3   account_days_in_dc_12_24m            88140 non-null  float64\n",
      " 4   account_days_in_rem_12_24m           88140 non-null  float64\n",
      " 5   account_days_in_term_12_24m          88140 non-null  float64\n",
      " 6   account_incoming_debt_vs_paid_0_24m  40661 non-null  float64\n",
      " 7   account_status                       45603 non-null  float64\n",
      " 8   account_worst_status_0_3m            45603 non-null  float64\n",
      " 9   account_worst_status_12_24m          33215 non-null  float64\n",
      " 10  account_worst_status_3_6m            42274 non-null  float64\n",
      " 11  account_worst_status_6_12m           39626 non-null  float64\n",
      " 12  age                                  99976 non-null  int32  \n",
      " 13  avg_payment_span_0_12m               76140 non-null  float64\n",
      " 14  avg_payment_span_0_3m                50671 non-null  float64\n",
      " 15  merchant_category                    99976 non-null  object \n",
      " 16  merchant_group                       99976 non-null  object \n",
      " 17  has_paid                             99976 non-null  bool   \n",
      " 18  max_paid_inv_0_12m                   99976 non-null  float64\n",
      " 19  max_paid_inv_0_24m                   99976 non-null  float64\n",
      " 20  name_in_email                        99976 non-null  object \n",
      " 21  num_active_div_by_paid_inv_0_12m     77037 non-null  float64\n",
      " 22  num_active_inv                       99976 non-null  int32  \n",
      " 23  num_arch_dc_0_12m                    99976 non-null  int32  \n",
      " 24  num_arch_dc_12_24m                   99976 non-null  int32  \n",
      " 25  num_arch_ok_0_12m                    99976 non-null  int32  \n",
      " 26  num_arch_ok_12_24m                   99976 non-null  int32  \n",
      " 27  num_arch_rem_0_12m                   99976 non-null  int32  \n",
      " 28  num_arch_written_off_0_12m           81898 non-null  float64\n",
      " 29  num_arch_written_off_12_24m          81898 non-null  float64\n",
      " 30  num_unpaid_bills                     99976 non-null  int32  \n",
      " 31  status_last_archived_0_24m           99976 non-null  int32  \n",
      " 32  status_2nd_last_archived_0_24m       99976 non-null  int32  \n",
      " 33  status_3rd_last_archived_0_24m       99976 non-null  int32  \n",
      " 34  status_max_archived_0_6_months       99976 non-null  int32  \n",
      " 35  status_max_archived_0_12_months      99976 non-null  int32  \n",
      " 36  status_max_archived_0_24_months      99976 non-null  int32  \n",
      " 37  recovery_debt                        99976 non-null  int32  \n",
      " 38  sum_capital_paid_account_0_12m       99976 non-null  int32  \n",
      " 39  sum_capital_paid_account_12_24m      99976 non-null  int32  \n",
      " 40  sum_paid_inv_0_12m                   99976 non-null  int32  \n",
      " 41  time_hours                           99976 non-null  float64\n",
      " 42  worst_status_active_inv              30461 non-null  object \n",
      "dtypes: bool(1), float64(17), int32(19), object(6)\n",
      "memory usage: 24.9+ MB\n"
     ]
    }
   ],
   "source": [
    "df.info()"
   ]
  },
  {
   "cell_type": "code",
   "execution_count": 5,
   "id": "ec2480a8",
   "metadata": {},
   "outputs": [
    {
     "name": "stdout",
     "output_type": "stream",
     "text": [
      "<class 'pandas.core.frame.DataFrame'>\n",
      "Int64Index: 89976 entries, 0 to 89975\n",
      "Data columns (total 43 columns):\n",
      " #   Column                               Non-Null Count  Dtype  \n",
      "---  ------                               --------------  -----  \n",
      " 0   uuid                                 89976 non-null  object \n",
      " 1   default                              89976 non-null  object \n",
      " 2   account_amount_added_12_24m          89976 non-null  int32  \n",
      " 3   account_days_in_dc_12_24m            79293 non-null  float64\n",
      " 4   account_days_in_rem_12_24m           79293 non-null  float64\n",
      " 5   account_days_in_term_12_24m          79293 non-null  float64\n",
      " 6   account_incoming_debt_vs_paid_0_24m  36619 non-null  float64\n",
      " 7   account_status                       41042 non-null  float64\n",
      " 8   account_worst_status_0_3m            41042 non-null  float64\n",
      " 9   account_worst_status_12_24m          29921 non-null  float64\n",
      " 10  account_worst_status_3_6m            38038 non-null  float64\n",
      " 11  account_worst_status_6_12m           35663 non-null  float64\n",
      " 12  age                                  89976 non-null  int32  \n",
      " 13  avg_payment_span_0_12m               68508 non-null  float64\n",
      " 14  avg_payment_span_0_3m                45594 non-null  float64\n",
      " 15  merchant_category                    89976 non-null  object \n",
      " 16  merchant_group                       89976 non-null  object \n",
      " 17  has_paid                             89976 non-null  bool   \n",
      " 18  max_paid_inv_0_12m                   89976 non-null  float64\n",
      " 19  max_paid_inv_0_24m                   89976 non-null  float64\n",
      " 20  name_in_email                        89976 non-null  object \n",
      " 21  num_active_div_by_paid_inv_0_12m     69318 non-null  float64\n",
      " 22  num_active_inv                       89976 non-null  int32  \n",
      " 23  num_arch_dc_0_12m                    89976 non-null  int32  \n",
      " 24  num_arch_dc_12_24m                   89976 non-null  int32  \n",
      " 25  num_arch_ok_0_12m                    89976 non-null  int32  \n",
      " 26  num_arch_ok_12_24m                   89976 non-null  int32  \n",
      " 27  num_arch_rem_0_12m                   89976 non-null  int32  \n",
      " 28  num_arch_written_off_0_12m           73671 non-null  float64\n",
      " 29  num_arch_written_off_12_24m          73671 non-null  float64\n",
      " 30  num_unpaid_bills                     89976 non-null  int32  \n",
      " 31  status_last_archived_0_24m           89976 non-null  int32  \n",
      " 32  status_2nd_last_archived_0_24m       89976 non-null  int32  \n",
      " 33  status_3rd_last_archived_0_24m       89976 non-null  int32  \n",
      " 34  status_max_archived_0_6_months       89976 non-null  int32  \n",
      " 35  status_max_archived_0_12_months      89976 non-null  int32  \n",
      " 36  status_max_archived_0_24_months      89976 non-null  int32  \n",
      " 37  recovery_debt                        89976 non-null  int32  \n",
      " 38  sum_capital_paid_account_0_12m       89976 non-null  int32  \n",
      " 39  sum_capital_paid_account_12_24m      89976 non-null  int32  \n",
      " 40  sum_paid_inv_0_12m                   89976 non-null  int32  \n",
      " 41  time_hours                           89976 non-null  float64\n",
      " 42  worst_status_active_inv              27436 non-null  object \n",
      "dtypes: bool(1), float64(17), int32(19), object(6)\n",
      "memory usage: 23.1+ MB\n"
     ]
    }
   ],
   "source": [
    "# Strip out the NA entries for the column 'default'\n",
    "# First we save the entries to a seperate dataframe\n",
    "\n",
    "validate_df = df[df['default'].isna().copy()]\n",
    "\n",
    "df = df[df['default'].notna().copy()]\n",
    "\n",
    "df.info()"
   ]
  },
  {
   "cell_type": "code",
   "execution_count": 6,
   "id": "7fdef45a",
   "metadata": {},
   "outputs": [
    {
     "data": {
      "image/png": "[encoded data removed]",
      "text/plain": [
       "<Figure size 1000x500 with 1 Axes>"
      ]
     },
     "metadata": {},
     "output_type": "display_data"
    }
   ],
   "source": [
    "# Explore the dataset, in particular look at the NA counts\n",
    "has_na = []\n",
    "for col in df.columns:\n",
    "    perc_na = 0\n",
    "    perc_na = round(df[col].isna().sum()/len(df), 2)*100\n",
    "    if perc_na > 0:\n",
    "        has_na.append([col, perc_na])\n",
    "\n",
    "\n",
    "# Plot out the columns with NA (their percentages)\n",
    "fig, ax = plt.subplots(figsize=(10, 5), dpi=100)\n",
    "na_plot = sns.barplot(x=[n[0] for n in has_na], y=[n[1] for n in has_na],  ax=ax)\n",
    "na_plot.set_xticklabels(na_plot.get_xticklabels(), rotation=90, horizontalalignment='right');\n"
   ]
  },
  {
   "cell_type": "code",
   "execution_count": 7,
   "id": "fe59ab9d",
   "metadata": {},
   "outputs": [],
   "source": [
    "# Let's explore some of the columns (other than worst_status_active_inv\n",
    "# which we already know has a high NA count)"
   ]
  },
  {
   "cell_type": "code",
   "execution_count": 8,
   "id": "5824e91d",
   "metadata": {},
   "outputs": [],
   "source": [
    "def my_imputer(col, replacement_val, new_dtype = None):\n",
    "    \"\"\"\n",
    "    This method will replace NA values with another value\n",
    "    and change the column type if required.\n",
    "\n",
    "    Keeping things simple here and not sending the df\n",
    "\n",
    "    Parameters:\n",
    "    -----------\n",
    "        string, (value to use as replacement), string\n",
    "\n",
    "    Returns:\n",
    "    -------\n",
    "        None\n",
    "    \"\"\"\n",
    "\n",
    "    df[col]=df[col].apply(lambda x: replacement_val if pd.isnull(x) else x)\n",
    "\n",
    "    if new_dtype != None:\n",
    "        df.astype({col: 'int32'}).dtypes"
   ]
  },
  {
   "cell_type": "code",
   "execution_count": 9,
   "id": "7ad9c01f",
   "metadata": {},
   "outputs": [
    {
     "data": {
      "text/plain": [
       "0"
      ]
     },
     "execution_count": 9,
     "metadata": {},
     "output_type": "execute_result"
    }
   ],
   "source": [
    "# Treat the NA values for the column by replacing them with another value\n",
    "# then set the column type to another dtype is required\n",
    "\n",
    "my_imputer('worst_status_active_inv', 0, 'int32')\n",
    "df['worst_status_active_inv'].isna().sum()"
   ]
  },
  {
   "cell_type": "markdown",
   "id": "b3fd5190",
   "metadata": {},
   "source": [
    "### Feature Extraction & Engineering"
   ]
  },
  {
   "cell_type": "code",
   "execution_count": 10,
   "id": "d3920a06",
   "metadata": {},
   "outputs": [],
   "source": [
    "# to code"
   ]
  },
  {
   "cell_type": "markdown",
   "id": "6f6e481a",
   "metadata": {},
   "source": [
    "### Feature Scaling & Selection"
   ]
  },
  {
   "cell_type": "code",
   "execution_count": 11,
   "id": "083a3864",
   "metadata": {},
   "outputs": [],
   "source": [
    "# to code"
   ]
  },
  {
   "cell_type": "markdown",
   "id": "07a96eb6",
   "metadata": {},
   "source": [
    "## Modelling"
   ]
  },
  {
   "cell_type": "code",
   "execution_count": 12,
   "id": "33927ed6",
   "metadata": {},
   "outputs": [],
   "source": [
    "# to code"
   ]
  },
  {
   "cell_type": "markdown",
   "id": "8dc5c8ed",
   "metadata": {},
   "source": [
    "## Model Evaluation & Tuning"
   ]
  },
  {
   "cell_type": "code",
   "execution_count": 13,
   "id": "53bd254e",
   "metadata": {},
   "outputs": [],
   "source": [
    "# to code"
   ]
  }
 ],
 "metadata": {
  "kernelspec": {
   "display_name": "Python 3 (ipykernel)",
   "language": "python",
   "name": "python3"
  },
  "language_info": {
   "codemirror_mode": {
    "name": "ipython",
    "version": 3
   },
   "file_extension": ".py",
   "mimetype": "text/x-python",
   "name": "python",
   "nbconvert_exporter": "python",
   "pygments_lexer": "ipython3",
   "version": "3.10.6"
  },
  "toc": {
   "base_numbering": 1,
   "nav_menu": {},
   "number_sections": true,
   "sideBar": true,
   "skip_h1_title": false,
   "title_cell": "Table of Contents",
   "title_sidebar": "Contents",
   "toc_cell": false,
   "toc_position": {},
   "toc_section_display": true,
   "toc_window_display": false
  }
 },
 "nbformat": 4,
 "nbformat_minor": 5
}
