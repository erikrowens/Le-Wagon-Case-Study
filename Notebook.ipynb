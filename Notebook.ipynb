{
 "cells": [
  {
   "cell_type": "markdown",
   "id": "94e09f87",
   "metadata": {},
   "source": [
    "# Klarna Case Study"
   ]
  },
  {
   "cell_type": "code",
   "execution_count": null,
   "id": "996787cf",
   "metadata": {},
   "outputs": [],
   "source": [
    "import pandas as pd\n",
    "import numpy as np\n",
    "import matplotlib.pyplot as plt\n",
    "import seaborn as sns\n",
    "import csv"
   ]
  },
  {
   "cell_type": "markdown",
   "id": "118c6439",
   "metadata": {},
   "source": [
    "## Data Retrieval"
   ]
  },
  {
   "cell_type": "code",
   "execution_count": null,
   "id": "e046f330",
   "metadata": {},
   "outputs": [],
   "source": [
    "def get_col_info():\n",
    "    colInfo = 'CaseStudyCols.csv'\n",
    "\n",
    "    with open(colInfo, newline='') as csv_file:\n",
    "        reader = csv.reader(csv_file, delimiter=';')\n",
    "        # skip over the first row\n",
    "        reader.__next__()\n",
    "        rows = list(reader)\n",
    "\n",
    "    col_names_types = {row[0]: row[1] for row in rows}\n",
    "\n",
    "    return col_names_types\n"
   ]
  },
  {
   "cell_type": "code",
   "execution_count": null,
   "id": "c467ccb7",
   "metadata": {},
   "outputs": [],
   "source": [
    "dataSet = 'dataset.csv'\n",
    "\n",
    "\"\"\"\n",
    "Note that in reality the column 'default' and\n",
    "'worst_status_active_inv' as actually ints, but\n",
    "since they have NA values, we load them as objects\n",
    "for now.\n",
    "\n",
    "But note that the entries where default = NA are actually our\n",
    "entries that we are supposed to predict (validate set?)\n",
    "\"\"\"\n",
    "\n",
    "df = pd.read_csv(dataSet, delimiter=';', dtype = get_col_info(), keep_default_na=True)"
   ]
  },
  {
   "cell_type": "markdown",
   "id": "cd302016",
   "metadata": {},
   "source": [
    "Data Processing & Wrangling"
   ]
  },
  {
   "cell_type": "code",
   "execution_count": null,
   "id": "978c9b14",
   "metadata": {},
   "outputs": [],
   "source": [
    "df.info()"
   ]
  },
  {
   "cell_type": "code",
   "execution_count": null,
   "id": "ec2480a8",
   "metadata": {},
   "outputs": [],
   "source": [
    "# Strip out the NA entries for the column 'default'\n",
    "# First we save the entries to a seperate dataframe\n",
    "\n",
    "validate_df = df[df['default'].isna().copy()]\n",
    "\n",
    "df = df[df['default'].notna().copy()]\n",
    "\n",
    "df.info()"
   ]
  },
  {
   "cell_type": "code",
   "execution_count": null,
   "id": "7fdef45a",
   "metadata": {},
   "outputs": [],
   "source": [
    "# Explore the dataset, in particular look at the NA counts\n",
    "has_na = []\n",
    "for col in df.columns:\n",
    "    perc_na = 0\n",
    "    perc_na = round(df[col].isna().sum()/len(df), 2)*100\n",
    "    if perc_na > 0:\n",
    "        has_na.append([col, perc_na])\n",
    "\n",
    "\n",
    "# Plot out the columns with NA (their percentages)\n",
    "fig, ax = plt.subplots(figsize=(10, 5), dpi=100)\n",
    "na_plot = sns.barplot(x=[n[0] for n in has_na], y=[n[1] for n in has_na],  ax=ax)\n",
    "na_plot.set_xticklabels(na_plot.get_xticklabels(), rotation=90, horizontalalignment='right');\n"
   ]
  },
  {
   "cell_type": "code",
   "execution_count": null,
   "id": "fe59ab9d",
   "metadata": {},
   "outputs": [],
   "source": [
    "# Let's explore some of the columns (other than worst_status_active_inv\n",
    "# which we already know has a high NA count)"
   ]
  },
  {
   "cell_type": "code",
   "execution_count": null,
   "id": "5824e91d",
   "metadata": {},
   "outputs": [],
   "source": [
    "def my_imputer(col, replacement_val, new_dtype = None):\n",
    "    \"\"\"\n",
    "    This method will replace NA values with another value\n",
    "    and change the column type if required.\n",
    "\n",
    "    Keeping things simple here and not sending the df\n",
    "\n",
    "    Parameters:\n",
    "    -----------\n",
    "        string, (value to use as replacement), string\n",
    "\n",
    "    Returns:\n",
    "    -------\n",
    "        None\n",
    "    \"\"\"\n",
    "\n",
    "    df[col]=df[col].apply(lambda x: replacement_val if pd.isnull(x) else x)\n",
    "\n",
    "    if new_dtype != None:\n",
    "        df.astype({col: 'int32'}).dtypes"
   ]
  },
  {
   "cell_type": "code",
   "execution_count": null,
   "id": "7ad9c01f",
   "metadata": {},
   "outputs": [],
   "source": [
    "# Treat the NA values for the column by replacing them with another value\n",
    "# then set the column type to another dtype is required\n",
    "\n",
    "my_imputer('worst_status_active_inv', 0, 'int32')\n",
    "df['worst_status_active_inv'].isna().sum()"
   ]
  },
  {
   "cell_type": "markdown",
   "id": "b3fd5190",
   "metadata": {},
   "source": [
    "### Feature Extraction & Engineering"
   ]
  },
  {
   "cell_type": "code",
   "execution_count": null,
   "id": "d3920a06",
   "metadata": {},
   "outputs": [],
   "source": [
    "# to code"
   ]
  },
  {
   "cell_type": "markdown",
   "id": "6f6e481a",
   "metadata": {},
   "source": [
    "### Feature Scaling & Selection"
   ]
  },
  {
   "cell_type": "code",
   "execution_count": null,
   "id": "083a3864",
   "metadata": {},
   "outputs": [],
   "source": [
    "# to code"
   ]
  },
  {
   "cell_type": "markdown",
   "id": "07a96eb6",
   "metadata": {},
   "source": [
    "## Modelling"
   ]
  },
  {
   "cell_type": "code",
   "execution_count": null,
   "id": "33927ed6",
   "metadata": {},
   "outputs": [],
   "source": [
    "# to code"
   ]
  },
  {
   "cell_type": "markdown",
   "id": "8dc5c8ed",
   "metadata": {},
   "source": [
    "## Model Evaluation & Tuning"
   ]
  },
  {
   "cell_type": "code",
   "execution_count": null,
   "id": "53bd254e",
   "metadata": {},
   "outputs": [],
   "source": [
    "# to code"
   ]
  }
 ],
 "metadata": {
  "kernelspec": {
   "display_name": "Python 3 (ipykernel)",
   "language": "python",
   "name": "python3"
  },
  "language_info": {
   "codemirror_mode": {
    "name": "ipython",
    "version": 3
   },
   "file_extension": ".py",
   "mimetype": "text/x-python",
   "name": "python",
   "nbconvert_exporter": "python",
   "pygments_lexer": "ipython3",
   "version": "3.10.6"
  },
  "toc": {
   "base_numbering": 1,
   "nav_menu": {},
   "number_sections": true,
   "sideBar": true,
   "skip_h1_title": false,
   "title_cell": "Table of Contents",
   "title_sidebar": "Contents",
   "toc_cell": false,
   "toc_position": {},
   "toc_section_display": true,
   "toc_window_display": false
  }
 },
 "nbformat": 4,
 "nbformat_minor": 5
}
